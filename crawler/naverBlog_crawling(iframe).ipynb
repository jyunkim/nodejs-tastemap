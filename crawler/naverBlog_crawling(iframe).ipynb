{
  "nbformat": 4,
  "nbformat_minor": 0,
  "metadata": {
    "colab": {
      "name": "naverBlog_crawling(iframe).ipynb",
      "provenance": [],
      "collapsed_sections": []
    },
    "kernelspec": {
      "name": "python3",
      "display_name": "Python 3"
    },
    "language_info": {
      "name": "python"
    }
  },
  "cells": [
    {
      "cell_type": "code",
      "metadata": {
        "colab": {
          "base_uri": "https://localhost:8080/"
        },
        "id": "qOZ1vARayySt",
        "outputId": "3e2afd81-f8a7-4df1-e2aa-29a4adff6bee"
      },
      "source": [
        "!pip install selenium\n",
        "!apt-get update # to update ubuntu to correctly run apt install\n",
        "!apt install chromium-chromedriver"
      ],
      "execution_count": 1,
      "outputs": [
        {
          "output_type": "stream",
          "text": [
            "Collecting selenium\n",
            "\u001b[?25l  Downloading https://files.pythonhosted.org/packages/80/d6/4294f0b4bce4de0abf13e17190289f9d0613b0a44e5dd6a7f5ca98459853/selenium-3.141.0-py2.py3-none-any.whl (904kB)\n",
            "\r\u001b[K     |▍                               | 10kB 13.2MB/s eta 0:00:01\r\u001b[K     |▊                               | 20kB 17.9MB/s eta 0:00:01\r\u001b[K     |█                               | 30kB 17.3MB/s eta 0:00:01\r\u001b[K     |█▌                              | 40kB 14.1MB/s eta 0:00:01\r\u001b[K     |█▉                              | 51kB 8.3MB/s eta 0:00:01\r\u001b[K     |██▏                             | 61kB 9.7MB/s eta 0:00:01\r\u001b[K     |██▌                             | 71kB 8.0MB/s eta 0:00:01\r\u001b[K     |███                             | 81kB 8.9MB/s eta 0:00:01\r\u001b[K     |███▎                            | 92kB 8.8MB/s eta 0:00:01\r\u001b[K     |███▋                            | 102kB 7.9MB/s eta 0:00:01\r\u001b[K     |████                            | 112kB 7.9MB/s eta 0:00:01\r\u001b[K     |████▍                           | 122kB 7.9MB/s eta 0:00:01\r\u001b[K     |████▊                           | 133kB 7.9MB/s eta 0:00:01\r\u001b[K     |█████                           | 143kB 7.9MB/s eta 0:00:01\r\u001b[K     |█████▍                          | 153kB 7.9MB/s eta 0:00:01\r\u001b[K     |█████▉                          | 163kB 7.9MB/s eta 0:00:01\r\u001b[K     |██████▏                         | 174kB 7.9MB/s eta 0:00:01\r\u001b[K     |██████▌                         | 184kB 7.9MB/s eta 0:00:01\r\u001b[K     |██████▉                         | 194kB 7.9MB/s eta 0:00:01\r\u001b[K     |███████▎                        | 204kB 7.9MB/s eta 0:00:01\r\u001b[K     |███████▋                        | 215kB 7.9MB/s eta 0:00:01\r\u001b[K     |████████                        | 225kB 7.9MB/s eta 0:00:01\r\u001b[K     |████████▎                       | 235kB 7.9MB/s eta 0:00:01\r\u001b[K     |████████▊                       | 245kB 7.9MB/s eta 0:00:01\r\u001b[K     |█████████                       | 256kB 7.9MB/s eta 0:00:01\r\u001b[K     |█████████▍                      | 266kB 7.9MB/s eta 0:00:01\r\u001b[K     |█████████▉                      | 276kB 7.9MB/s eta 0:00:01\r\u001b[K     |██████████▏                     | 286kB 7.9MB/s eta 0:00:01\r\u001b[K     |██████████▌                     | 296kB 7.9MB/s eta 0:00:01\r\u001b[K     |██████████▉                     | 307kB 7.9MB/s eta 0:00:01\r\u001b[K     |███████████▎                    | 317kB 7.9MB/s eta 0:00:01\r\u001b[K     |███████████▋                    | 327kB 7.9MB/s eta 0:00:01\r\u001b[K     |████████████                    | 337kB 7.9MB/s eta 0:00:01\r\u001b[K     |████████████▎                   | 348kB 7.9MB/s eta 0:00:01\r\u001b[K     |████████████▊                   | 358kB 7.9MB/s eta 0:00:01\r\u001b[K     |█████████████                   | 368kB 7.9MB/s eta 0:00:01\r\u001b[K     |█████████████▍                  | 378kB 7.9MB/s eta 0:00:01\r\u001b[K     |█████████████▊                  | 389kB 7.9MB/s eta 0:00:01\r\u001b[K     |██████████████▏                 | 399kB 7.9MB/s eta 0:00:01\r\u001b[K     |██████████████▌                 | 409kB 7.9MB/s eta 0:00:01\r\u001b[K     |██████████████▉                 | 419kB 7.9MB/s eta 0:00:01\r\u001b[K     |███████████████▏                | 430kB 7.9MB/s eta 0:00:01\r\u001b[K     |███████████████▋                | 440kB 7.9MB/s eta 0:00:01\r\u001b[K     |████████████████                | 450kB 7.9MB/s eta 0:00:01\r\u001b[K     |████████████████▎               | 460kB 7.9MB/s eta 0:00:01\r\u001b[K     |████████████████▋               | 471kB 7.9MB/s eta 0:00:01\r\u001b[K     |█████████████████               | 481kB 7.9MB/s eta 0:00:01\r\u001b[K     |█████████████████▍              | 491kB 7.9MB/s eta 0:00:01\r\u001b[K     |█████████████████▊              | 501kB 7.9MB/s eta 0:00:01\r\u001b[K     |██████████████████▏             | 512kB 7.9MB/s eta 0:00:01\r\u001b[K     |██████████████████▌             | 522kB 7.9MB/s eta 0:00:01\r\u001b[K     |██████████████████▉             | 532kB 7.9MB/s eta 0:00:01\r\u001b[K     |███████████████████▏            | 542kB 7.9MB/s eta 0:00:01\r\u001b[K     |███████████████████▋            | 552kB 7.9MB/s eta 0:00:01\r\u001b[K     |████████████████████            | 563kB 7.9MB/s eta 0:00:01\r\u001b[K     |████████████████████▎           | 573kB 7.9MB/s eta 0:00:01\r\u001b[K     |████████████████████▋           | 583kB 7.9MB/s eta 0:00:01\r\u001b[K     |█████████████████████           | 593kB 7.9MB/s eta 0:00:01\r\u001b[K     |█████████████████████▍          | 604kB 7.9MB/s eta 0:00:01\r\u001b[K     |█████████████████████▊          | 614kB 7.9MB/s eta 0:00:01\r\u001b[K     |██████████████████████          | 624kB 7.9MB/s eta 0:00:01\r\u001b[K     |██████████████████████▌         | 634kB 7.9MB/s eta 0:00:01\r\u001b[K     |██████████████████████▉         | 645kB 7.9MB/s eta 0:00:01\r\u001b[K     |███████████████████████▏        | 655kB 7.9MB/s eta 0:00:01\r\u001b[K     |███████████████████████▌        | 665kB 7.9MB/s eta 0:00:01\r\u001b[K     |████████████████████████        | 675kB 7.9MB/s eta 0:00:01\r\u001b[K     |████████████████████████▎       | 686kB 7.9MB/s eta 0:00:01\r\u001b[K     |████████████████████████▋       | 696kB 7.9MB/s eta 0:00:01\r\u001b[K     |█████████████████████████       | 706kB 7.9MB/s eta 0:00:01\r\u001b[K     |█████████████████████████▍      | 716kB 7.9MB/s eta 0:00:01\r\u001b[K     |█████████████████████████▊      | 727kB 7.9MB/s eta 0:00:01\r\u001b[K     |██████████████████████████      | 737kB 7.9MB/s eta 0:00:01\r\u001b[K     |██████████████████████████▍     | 747kB 7.9MB/s eta 0:00:01\r\u001b[K     |██████████████████████████▉     | 757kB 7.9MB/s eta 0:00:01\r\u001b[K     |███████████████████████████▏    | 768kB 7.9MB/s eta 0:00:01\r\u001b[K     |███████████████████████████▌    | 778kB 7.9MB/s eta 0:00:01\r\u001b[K     |████████████████████████████    | 788kB 7.9MB/s eta 0:00:01\r\u001b[K     |████████████████████████████▎   | 798kB 7.9MB/s eta 0:00:01\r\u001b[K     |████████████████████████████▋   | 808kB 7.9MB/s eta 0:00:01\r\u001b[K     |█████████████████████████████   | 819kB 7.9MB/s eta 0:00:01\r\u001b[K     |█████████████████████████████▍  | 829kB 7.9MB/s eta 0:00:01\r\u001b[K     |█████████████████████████████▊  | 839kB 7.9MB/s eta 0:00:01\r\u001b[K     |██████████████████████████████  | 849kB 7.9MB/s eta 0:00:01\r\u001b[K     |██████████████████████████████▍ | 860kB 7.9MB/s eta 0:00:01\r\u001b[K     |██████████████████████████████▉ | 870kB 7.9MB/s eta 0:00:01\r\u001b[K     |███████████████████████████████▏| 880kB 7.9MB/s eta 0:00:01\r\u001b[K     |███████████████████████████████▌| 890kB 7.9MB/s eta 0:00:01\r\u001b[K     |███████████████████████████████▉| 901kB 7.9MB/s eta 0:00:01\r\u001b[K     |████████████████████████████████| 911kB 7.9MB/s \n",
            "\u001b[?25hRequirement already satisfied: urllib3 in /usr/local/lib/python3.7/dist-packages (from selenium) (1.24.3)\n",
            "Installing collected packages: selenium\n",
            "Successfully installed selenium-3.141.0\n",
            "Get:1 https://cloud.r-project.org/bin/linux/ubuntu bionic-cran40/ InRelease [3,626 B]\n",
            "Ign:2 https://developer.download.nvidia.com/compute/cuda/repos/ubuntu1804/x86_64  InRelease\n",
            "Ign:3 https://developer.download.nvidia.com/compute/machine-learning/repos/ubuntu1804/x86_64  InRelease\n",
            "Get:4 https://developer.download.nvidia.com/compute/cuda/repos/ubuntu1804/x86_64  Release [697 B]\n",
            "Hit:5 https://developer.download.nvidia.com/compute/machine-learning/repos/ubuntu1804/x86_64  Release\n",
            "Get:6 https://developer.download.nvidia.com/compute/cuda/repos/ubuntu1804/x86_64  Release.gpg [836 B]\n",
            "Get:7 http://security.ubuntu.com/ubuntu bionic-security InRelease [88.7 kB]\n",
            "Hit:8 http://archive.ubuntu.com/ubuntu bionic InRelease\n",
            "Get:9 https://cloud.r-project.org/bin/linux/ubuntu bionic-cran40/ Packages [60.9 kB]\n",
            "Get:10 http://ppa.launchpad.net/c2d4u.team/c2d4u4.0+/ubuntu bionic InRelease [15.9 kB]\n",
            "Get:11 http://archive.ubuntu.com/ubuntu bionic-updates InRelease [88.7 kB]\n",
            "Ign:13 https://developer.download.nvidia.com/compute/cuda/repos/ubuntu1804/x86_64  Packages\n",
            "Get:13 https://developer.download.nvidia.com/compute/cuda/repos/ubuntu1804/x86_64  Packages [796 kB]\n",
            "Hit:14 http://ppa.launchpad.net/cran/libgit2/ubuntu bionic InRelease\n",
            "Get:15 http://archive.ubuntu.com/ubuntu bionic-backports InRelease [74.6 kB]\n",
            "Hit:16 http://ppa.launchpad.net/deadsnakes/ppa/ubuntu bionic InRelease\n",
            "Get:17 http://security.ubuntu.com/ubuntu bionic-security/main amd64 Packages [2,152 kB]\n",
            "Get:18 http://ppa.launchpad.net/graphics-drivers/ppa/ubuntu bionic InRelease [21.3 kB]\n",
            "Get:19 http://security.ubuntu.com/ubuntu bionic-security/restricted amd64 Packages [423 kB]\n",
            "Get:20 http://security.ubuntu.com/ubuntu bionic-security/universe amd64 Packages [1,412 kB]\n",
            "Get:21 http://ppa.launchpad.net/c2d4u.team/c2d4u4.0+/ubuntu bionic/main Sources [1,769 kB]\n",
            "Get:22 http://archive.ubuntu.com/ubuntu bionic-updates/restricted amd64 Packages [452 kB]\n",
            "Get:23 http://archive.ubuntu.com/ubuntu bionic-updates/main amd64 Packages [2,583 kB]\n",
            "Get:24 http://archive.ubuntu.com/ubuntu bionic-updates/universe amd64 Packages [2,183 kB]\n",
            "Get:25 http://ppa.launchpad.net/c2d4u.team/c2d4u4.0+/ubuntu bionic/main amd64 Packages [905 kB]\n",
            "Get:26 http://ppa.launchpad.net/graphics-drivers/ppa/ubuntu bionic/main amd64 Packages [41.5 kB]\n",
            "Fetched 13.1 MB in 4s (3,040 kB/s)\n",
            "Reading package lists... Done\n",
            "Reading package lists... Done\n",
            "Building dependency tree       \n",
            "Reading state information... Done\n",
            "The following package was automatically installed and is no longer required:\n",
            "  libnvidia-common-460\n",
            "Use 'apt autoremove' to remove it.\n",
            "The following additional packages will be installed:\n",
            "  chromium-browser chromium-browser-l10n chromium-codecs-ffmpeg-extra\n",
            "Suggested packages:\n",
            "  webaccounts-chromium-extension unity-chromium-extension\n",
            "The following NEW packages will be installed:\n",
            "  chromium-browser chromium-browser-l10n chromium-chromedriver\n",
            "  chromium-codecs-ffmpeg-extra\n",
            "0 upgraded, 4 newly installed, 0 to remove and 74 not upgraded.\n",
            "Need to get 86.6 MB of archives.\n",
            "After this operation, 300 MB of additional disk space will be used.\n",
            "Get:1 http://archive.ubuntu.com/ubuntu bionic-updates/universe amd64 chromium-codecs-ffmpeg-extra amd64 90.0.4430.93-0ubuntu0.18.04.1 [1,128 kB]\n",
            "Get:2 http://archive.ubuntu.com/ubuntu bionic-updates/universe amd64 chromium-browser amd64 90.0.4430.93-0ubuntu0.18.04.1 [76.9 MB]\n",
            "Get:3 http://archive.ubuntu.com/ubuntu bionic-updates/universe amd64 chromium-browser-l10n all 90.0.4430.93-0ubuntu0.18.04.1 [3,853 kB]\n",
            "Get:4 http://archive.ubuntu.com/ubuntu bionic-updates/universe amd64 chromium-chromedriver amd64 90.0.4430.93-0ubuntu0.18.04.1 [4,743 kB]\n",
            "Fetched 86.6 MB in 5s (16.0 MB/s)\n",
            "Selecting previously unselected package chromium-codecs-ffmpeg-extra.\n",
            "(Reading database ... 160706 files and directories currently installed.)\n",
            "Preparing to unpack .../chromium-codecs-ffmpeg-extra_90.0.4430.93-0ubuntu0.18.04.1_amd64.deb ...\n",
            "Unpacking chromium-codecs-ffmpeg-extra (90.0.4430.93-0ubuntu0.18.04.1) ...\n",
            "Selecting previously unselected package chromium-browser.\n",
            "Preparing to unpack .../chromium-browser_90.0.4430.93-0ubuntu0.18.04.1_amd64.deb ...\n",
            "Unpacking chromium-browser (90.0.4430.93-0ubuntu0.18.04.1) ...\n",
            "Selecting previously unselected package chromium-browser-l10n.\n",
            "Preparing to unpack .../chromium-browser-l10n_90.0.4430.93-0ubuntu0.18.04.1_all.deb ...\n",
            "Unpacking chromium-browser-l10n (90.0.4430.93-0ubuntu0.18.04.1) ...\n",
            "Selecting previously unselected package chromium-chromedriver.\n",
            "Preparing to unpack .../chromium-chromedriver_90.0.4430.93-0ubuntu0.18.04.1_amd64.deb ...\n",
            "Unpacking chromium-chromedriver (90.0.4430.93-0ubuntu0.18.04.1) ...\n",
            "Setting up chromium-codecs-ffmpeg-extra (90.0.4430.93-0ubuntu0.18.04.1) ...\n",
            "Setting up chromium-browser (90.0.4430.93-0ubuntu0.18.04.1) ...\n",
            "update-alternatives: using /usr/bin/chromium-browser to provide /usr/bin/x-www-browser (x-www-browser) in auto mode\n",
            "update-alternatives: using /usr/bin/chromium-browser to provide /usr/bin/gnome-www-browser (gnome-www-browser) in auto mode\n",
            "Setting up chromium-chromedriver (90.0.4430.93-0ubuntu0.18.04.1) ...\n",
            "Setting up chromium-browser-l10n (90.0.4430.93-0ubuntu0.18.04.1) ...\n",
            "Processing triggers for man-db (2.8.3-2ubuntu0.1) ...\n",
            "Processing triggers for hicolor-icon-theme (0.17-2) ...\n",
            "Processing triggers for mime-support (3.60ubuntu1) ...\n",
            "Processing triggers for libc-bin (2.27-3ubuntu1.2) ...\n",
            "/sbin/ldconfig.real: /usr/local/lib/python3.7/dist-packages/ideep4py/lib/libmkldnn.so.0 is not a symbolic link\n",
            "\n"
          ],
          "name": "stdout"
        }
      ]
    },
    {
      "cell_type": "code",
      "metadata": {
        "id": "WBrH-wsOyyVX"
      },
      "source": [
        "import requests\n",
        "from bs4 import BeautifulSoup\n",
        "from time import sleep\n",
        "from urllib.request import urlopen\n",
        "import json\n",
        "import time\n",
        "import pandas as pd\n",
        "import io\n",
        "\n",
        "from selenium import webdriver\n",
        "from selenium.webdriver.common.keys import Keys\n",
        "from selenium.common.exceptions import NoSuchElementException\n",
        "from selenium.common.exceptions import ElementNotInteractableException\n",
        "from selenium.common.exceptions import StaleElementReferenceException\n",
        "from selenium.common.exceptions import ElementNotVisibleException\n",
        "\n",
        "\n",
        "######jupyter: 아래 지워주세요! #######\n",
        "chrome_options = webdriver.ChromeOptions()\n",
        "chrome_options.add_argument('--headless')\n",
        "chrome_options.add_argument('--no-sandbox')\n",
        "chrome_options.add_argument('--disable-dev-shm-usage')"
      ],
      "execution_count": 2,
      "outputs": []
    },
    {
      "cell_type": "code",
      "metadata": {
        "id": "GW8hYZ9eyyaM"
      },
      "source": [
        "#웹드라이버 로딩\n",
        "driver = webdriver.Chrome('chromedriver',options=chrome_options)\n",
        "driver.implicitly_wait(3)"
      ],
      "execution_count": 3,
      "outputs": []
    },
    {
      "cell_type": "code",
      "metadata": {
        "id": "k5llUVE7yyeu"
      },
      "source": [
        "dining_name = \"올더%20플레이트\"\n",
        "naver_url = \"https://map.naver.com/v5/search/\" +dining_name\n",
        "try:\n",
        "  driver.get(naver_url)\n",
        "except:\n",
        "  time.sleep(2)\n",
        "  driver.get(naver_url)"
      ],
      "execution_count": 4,
      "outputs": []
    },
    {
      "cell_type": "code",
      "metadata": {
        "colab": {
          "base_uri": "https://localhost:8080/"
        },
        "id": "atIbvE5_JuIa",
        "outputId": "fc77a30b-6b88-4c6c-d770-a8ccf602e5c2"
      },
      "source": [
        "html = driver.page_source\n",
        "soup = BeautifulSoup(html, 'html.parser')\n",
        "test1 = soup.select(\"div.panel_wrap > app-base > search-layout\")\n",
        "\n",
        "print(test1)\n",
        "\n",
        "# test2 = driver.find_element_by_id('entryIframe').text : no such element error\n",
        "\n",
        "# print(test2)\n",
        "\n",
        "driver.implicitly_wait(10)\n",
        "sleep(2)\n",
        "driver.switch_to.frame('searchIframe') #아이프레임 변환\n",
        "\n",
        "html = driver.page_source\n",
        "soup = BeautifulSoup(html, 'html.parser')#변환한 아이프레임에서 html, soup뽑아내봄\n",
        "\n",
        "print(html)\n",
        "\n",
        "body = soup.select(\"body\")\n",
        "test3 = soup.select(\"body > div.place_didmount\")\n",
        "\n",
        "print(test3)"
      ],
      "execution_count": 7,
      "outputs": [
        {
          "output_type": "stream",
          "text": [
            "[<search-layout _nghost-ipn-c170=\"\" class=\"ng-star-inserted\"><!-- --><h2 _ngcontent-ipn-c170=\"\" class=\"blind ng-star-inserted\">검색</h2><div _ngcontent-ipn-c170=\"\" class=\"main -top_space ng-star-inserted\"><combined-search-list _ngcontent-ipn-c170=\"\" _nghost-ipn-c168=\"\" style=\"visibility: visible;\"><!-- --><salt-search-list _ngcontent-ipn-c168=\"\" _nghost-ipn-c152=\"\" class=\"ng-star-inserted\" style=\"visibility: hidden;\"><nm-external-frame-bridge _ngcontent-ipn-c152=\"\" style=\"height: 100%;\"><nm-iframe _nghost-ipn-c119=\"\" class=\"ng-star-inserted\" style=\"height: 100%; pointer-events: auto;\"><iframe _ngcontent-ipn-c119=\"\" id=\"searchIframe\" src=\"about:blank\"></iframe></nm-iframe><!-- --><!-- --><!-- --></nm-external-frame-bridge><!-- --></salt-search-list><exception-search-list _ngcontent-ipn-c168=\"\" _nghost-ipn-c167=\"\" class=\"ng-star-inserted\" style=\"\"><!-- --><!-- --><h2 _ngcontent-ipn-c167=\"\" class=\"notice_title ng-star-inserted\"><strong>올더 플레이트</strong>에 대한 검색 결과가 없습니다.</h2><p _ngcontent-ipn-c167=\"\" class=\"notice_text ng-star-inserted\"> 단어의 철자가 정확한지 확인해 보세요. <br _ngcontent-ipn-c167=\"\"/> 찾으시는 검색 결과가 없다면 직접 등록해보세요. </p><div _ngcontent-ipn-c167=\"\" class=\"notice_btn_box ng-star-inserted\"><button _ngcontent-ipn-c167=\"\" class=\"btn_notice\" type=\"button\"> 내 업체 등록하기 </button><button _ngcontent-ipn-c167=\"\" class=\"btn_notice\" type=\"button\"> 신규 장소 등록 요청 </button></div><!-- --><!-- --><!-- --><!-- --></exception-search-list><!-- --><!-- --><!-- --><!-- --><!-- --><!-- --><!-- --></combined-search-list></div><div _ngcontent-ipn-c170=\"\" class=\"sub -covered hidden ng-star-inserted\"><router-outlet _ngcontent-ipn-c170=\"\"></router-outlet><entry-layout _nghost-ipn-c172=\"\" class=\"ng-star-inserted\" style=\"padding-top: 0px;\"><router-outlet _ngcontent-ipn-c172=\"\"></router-outlet><!-- --><div _ngcontent-ipn-c172=\"\" class=\"error_area ng-star-inserted\"><p _ngcontent-ipn-c172=\"\" class=\"error_message\">해당 장소 정보가 확인되지 않습니다.</p></div><!-- --><!-- --><!-- --></entry-layout><!-- --></div><!-- --><!-- --></search-layout>]\n",
            "<html><head></head><body></body></html>\n",
            "[]\n"
          ],
          "name": "stdout"
        }
      ]
    },
    {
      "cell_type": "code",
      "metadata": {
        "id": "6VxF1tF9JuXo"
      },
      "source": [
        ""
      ],
      "execution_count": null,
      "outputs": []
    },
    {
      "cell_type": "code",
      "metadata": {
        "id": "bPJTkmLZJuZ3"
      },
      "source": [
        ""
      ],
      "execution_count": null,
      "outputs": []
    },
    {
      "cell_type": "code",
      "metadata": {
        "id": "hRYLWT7jJucF"
      },
      "source": [
        ""
      ],
      "execution_count": null,
      "outputs": []
    },
    {
      "cell_type": "code",
      "metadata": {
        "id": "_085mUuhJueS"
      },
      "source": [
        ""
      ],
      "execution_count": null,
      "outputs": []
    },
    {
      "cell_type": "code",
      "metadata": {
        "id": "A2oCORBJJugk"
      },
      "source": [
        ""
      ],
      "execution_count": null,
      "outputs": []
    },
    {
      "cell_type": "code",
      "metadata": {
        "id": "8ac3aNgsFuMv"
      },
      "source": [
        "#참고용 무한스크롤 코드\n",
        "prev_height = driver.execute_script(\"return document.body.scrollHeight\")\n",
        "\n",
        "# 웹페이지 맨 아래까지 무한 스크롤\n",
        "while True:\n",
        "    # 스크롤을 화면 가장 아래로 내린다\n",
        "    driver.execute_script(\"window.scrollTo(0,document.body.scrollHeight)\")\n",
        "    \n",
        "    # 페이지 로딩 대기\n",
        "    time.sleep(2)\n",
        "\n",
        "    # 현재 문서 높이를 가져와서 저장\n",
        "    curr_height = driver.execute_script(\"return document.body.scrollHeight\")\n",
        "\n",
        "    if(curr_height == prev_height):\n",
        "        break\n",
        "    else:\n",
        "        prev_height = driver.execute_script(\"return document.body.scrollHeight\")"
      ],
      "execution_count": 36,
      "outputs": []
    },
    {
      "cell_type": "code",
      "metadata": {
        "id": "SgUsrdzjFuXf"
      },
      "source": [
        ""
      ],
      "execution_count": null,
      "outputs": []
    },
    {
      "cell_type": "code",
      "metadata": {
        "id": "IzNvxg3CFuaJ"
      },
      "source": [
        ""
      ],
      "execution_count": null,
      "outputs": []
    },
    {
      "cell_type": "code",
      "metadata": {
        "colab": {
          "base_uri": "https://localhost:8080/",
          "height": 443
        },
        "id": "XHCTbh7-ycE8",
        "outputId": "4b4026cb-7248-4477-f763-cd78c4ece945"
      },
      "source": [
        "#참고용 코드, 구글링해서 가져온것 : 지금 css selector 다 달라서 안먹혀요ㅠ\n",
        "\n",
        "# 팝업 창 제거\n",
        "# driver.find_element_by_css_selector(\"button#intro_popup_close\").click()\n",
        "\n",
        "# 검색창에 검색어 입력하기\n",
        "search_box = driver.find_element_by_css_selector(\"div.input_box>input.input_search\")\n",
        "search_box.send_keys(\"서울 맛집\")\n",
        "\n",
        "time.sleep(3)\n",
        "\n",
        "# 검색버튼 누르기\n",
        "search_box.send_keys(Keys.ENTER)\n",
        "\n",
        "# 크롤링\n",
        "for p in range(20):\n",
        "    # 5초 delay\n",
        "    time.sleep(2)\n",
        "    \n",
        "    js_script = \"document.querySelector(\\\"body > app > layout > div > div.container > div.router-output > \"\\\n",
        "                \"shrinkable-layout > search-layout > search-list > search-list-contents > perfect-scrollbar\\\").innerHTML\"\n",
        "    raw = driver.execute_script(\"return \" + js_script)\n",
        "\n",
        "    html = BeautifulSoup(raw, \"html.parser\")\n",
        "\n",
        "    contents = html.select(\"div > div.ps-content > div > div > div .item_search\")\n",
        "    for s in contents:\n",
        "        search_box_html = s.select_one(\".search_box\")\n",
        "\n",
        "        name = search_box_html.select_one(\".title_box .search_title .search_title_text\").text\n",
        "        print(\"식당명: \" + name)\n",
        "        try:\n",
        "            phone = search_box_html.select_one(\".search_text_box .phone\").text\n",
        "        except:\n",
        "            phone = \"NULL\"\n",
        "        print(\"전화번호: \" + phone)\n",
        "        address = search_box_html.select_one(\".ng-star-inserted .address\").text\n",
        "        print(\"주소: \" + address)\n",
        "\n",
        "        print(\"--\"*30)\n",
        "    # 다음 페이지로 이동\n",
        "    try:\n",
        "        next_btn = driver.find_element_by_css_selector(\"button.btn_next\")\n",
        "        next_btn.click()\n",
        "    except:\n",
        "        print(\"데이터 수집 완료\")\n",
        "        break\n",
        "\n",
        "# 크롭 웹페이지를 닫음\n",
        "driver.close()"
      ],
      "execution_count": null,
      "outputs": [
        {
          "output_type": "error",
          "ename": "JavascriptException",
          "evalue": "ignored",
          "traceback": [
            "\u001b[0;31m---------------------------------------------------------------------------\u001b[0m",
            "\u001b[0;31mJavascriptException\u001b[0m                       Traceback (most recent call last)",
            "\u001b[0;32m<ipython-input-7-6d0cf25e08b5>\u001b[0m in \u001b[0;36m<module>\u001b[0;34m()\u001b[0m\n\u001b[1;32m     17\u001b[0m \u001b[0;34m\u001b[0m\u001b[0m\n\u001b[1;32m     18\u001b[0m     \u001b[0mjs_script\u001b[0m \u001b[0;34m=\u001b[0m \u001b[0;34m\"document.querySelector(\\\"body > app > layout > div > div.container > div.router-output > \"\u001b[0m                \u001b[0;34m\"shrinkable-layout > search-layout > search-list > search-list-contents > perfect-scrollbar\\\").innerHTML\"\u001b[0m\u001b[0;34m\u001b[0m\u001b[0;34m\u001b[0m\u001b[0m\n\u001b[0;32m---> 19\u001b[0;31m     \u001b[0mraw\u001b[0m \u001b[0;34m=\u001b[0m \u001b[0mdriver\u001b[0m\u001b[0;34m.\u001b[0m\u001b[0mexecute_script\u001b[0m\u001b[0;34m(\u001b[0m\u001b[0;34m\"return \"\u001b[0m \u001b[0;34m+\u001b[0m \u001b[0mjs_script\u001b[0m\u001b[0;34m)\u001b[0m\u001b[0;34m\u001b[0m\u001b[0;34m\u001b[0m\u001b[0m\n\u001b[0m\u001b[1;32m     20\u001b[0m \u001b[0;34m\u001b[0m\u001b[0m\n\u001b[1;32m     21\u001b[0m     \u001b[0mhtml\u001b[0m \u001b[0;34m=\u001b[0m \u001b[0mBeautifulSoup\u001b[0m\u001b[0;34m(\u001b[0m\u001b[0mraw\u001b[0m\u001b[0;34m,\u001b[0m \u001b[0;34m\"html.parser\"\u001b[0m\u001b[0;34m)\u001b[0m\u001b[0;34m\u001b[0m\u001b[0;34m\u001b[0m\u001b[0m\n",
            "\u001b[0;32m/usr/local/lib/python3.7/dist-packages/selenium/webdriver/remote/webdriver.py\u001b[0m in \u001b[0;36mexecute_script\u001b[0;34m(self, script, *args)\u001b[0m\n\u001b[1;32m    634\u001b[0m         return self.execute(command, {\n\u001b[1;32m    635\u001b[0m             \u001b[0;34m'script'\u001b[0m\u001b[0;34m:\u001b[0m \u001b[0mscript\u001b[0m\u001b[0;34m,\u001b[0m\u001b[0;34m\u001b[0m\u001b[0;34m\u001b[0m\u001b[0m\n\u001b[0;32m--> 636\u001b[0;31m             'args': converted_args})['value']\n\u001b[0m\u001b[1;32m    637\u001b[0m \u001b[0;34m\u001b[0m\u001b[0m\n\u001b[1;32m    638\u001b[0m     \u001b[0;32mdef\u001b[0m \u001b[0mexecute_async_script\u001b[0m\u001b[0;34m(\u001b[0m\u001b[0mself\u001b[0m\u001b[0;34m,\u001b[0m \u001b[0mscript\u001b[0m\u001b[0;34m,\u001b[0m \u001b[0;34m*\u001b[0m\u001b[0margs\u001b[0m\u001b[0;34m)\u001b[0m\u001b[0;34m:\u001b[0m\u001b[0;34m\u001b[0m\u001b[0;34m\u001b[0m\u001b[0m\n",
            "\u001b[0;32m/usr/local/lib/python3.7/dist-packages/selenium/webdriver/remote/webdriver.py\u001b[0m in \u001b[0;36mexecute\u001b[0;34m(self, driver_command, params)\u001b[0m\n\u001b[1;32m    319\u001b[0m         \u001b[0mresponse\u001b[0m \u001b[0;34m=\u001b[0m \u001b[0mself\u001b[0m\u001b[0;34m.\u001b[0m\u001b[0mcommand_executor\u001b[0m\u001b[0;34m.\u001b[0m\u001b[0mexecute\u001b[0m\u001b[0;34m(\u001b[0m\u001b[0mdriver_command\u001b[0m\u001b[0;34m,\u001b[0m \u001b[0mparams\u001b[0m\u001b[0;34m)\u001b[0m\u001b[0;34m\u001b[0m\u001b[0;34m\u001b[0m\u001b[0m\n\u001b[1;32m    320\u001b[0m         \u001b[0;32mif\u001b[0m \u001b[0mresponse\u001b[0m\u001b[0;34m:\u001b[0m\u001b[0;34m\u001b[0m\u001b[0;34m\u001b[0m\u001b[0m\n\u001b[0;32m--> 321\u001b[0;31m             \u001b[0mself\u001b[0m\u001b[0;34m.\u001b[0m\u001b[0merror_handler\u001b[0m\u001b[0;34m.\u001b[0m\u001b[0mcheck_response\u001b[0m\u001b[0;34m(\u001b[0m\u001b[0mresponse\u001b[0m\u001b[0;34m)\u001b[0m\u001b[0;34m\u001b[0m\u001b[0;34m\u001b[0m\u001b[0m\n\u001b[0m\u001b[1;32m    322\u001b[0m             response['value'] = self._unwrap_value(\n\u001b[1;32m    323\u001b[0m                 response.get('value', None))\n",
            "\u001b[0;32m/usr/local/lib/python3.7/dist-packages/selenium/webdriver/remote/errorhandler.py\u001b[0m in \u001b[0;36mcheck_response\u001b[0;34m(self, response)\u001b[0m\n\u001b[1;32m    240\u001b[0m                 \u001b[0malert_text\u001b[0m \u001b[0;34m=\u001b[0m \u001b[0mvalue\u001b[0m\u001b[0;34m[\u001b[0m\u001b[0;34m'alert'\u001b[0m\u001b[0;34m]\u001b[0m\u001b[0;34m.\u001b[0m\u001b[0mget\u001b[0m\u001b[0;34m(\u001b[0m\u001b[0;34m'text'\u001b[0m\u001b[0;34m)\u001b[0m\u001b[0;34m\u001b[0m\u001b[0;34m\u001b[0m\u001b[0m\n\u001b[1;32m    241\u001b[0m             \u001b[0;32mraise\u001b[0m \u001b[0mexception_class\u001b[0m\u001b[0;34m(\u001b[0m\u001b[0mmessage\u001b[0m\u001b[0;34m,\u001b[0m \u001b[0mscreen\u001b[0m\u001b[0;34m,\u001b[0m \u001b[0mstacktrace\u001b[0m\u001b[0;34m,\u001b[0m \u001b[0malert_text\u001b[0m\u001b[0;34m)\u001b[0m\u001b[0;34m\u001b[0m\u001b[0;34m\u001b[0m\u001b[0m\n\u001b[0;32m--> 242\u001b[0;31m         \u001b[0;32mraise\u001b[0m \u001b[0mexception_class\u001b[0m\u001b[0;34m(\u001b[0m\u001b[0mmessage\u001b[0m\u001b[0;34m,\u001b[0m \u001b[0mscreen\u001b[0m\u001b[0;34m,\u001b[0m \u001b[0mstacktrace\u001b[0m\u001b[0;34m)\u001b[0m\u001b[0;34m\u001b[0m\u001b[0;34m\u001b[0m\u001b[0m\n\u001b[0m\u001b[1;32m    243\u001b[0m \u001b[0;34m\u001b[0m\u001b[0m\n\u001b[1;32m    244\u001b[0m     \u001b[0;32mdef\u001b[0m \u001b[0m_value_or_default\u001b[0m\u001b[0;34m(\u001b[0m\u001b[0mself\u001b[0m\u001b[0;34m,\u001b[0m \u001b[0mobj\u001b[0m\u001b[0;34m,\u001b[0m \u001b[0mkey\u001b[0m\u001b[0;34m,\u001b[0m \u001b[0mdefault\u001b[0m\u001b[0;34m)\u001b[0m\u001b[0;34m:\u001b[0m\u001b[0;34m\u001b[0m\u001b[0;34m\u001b[0m\u001b[0m\n",
            "\u001b[0;31mJavascriptException\u001b[0m: Message: javascript error: Cannot read property 'innerHTML' of null\n  (Session info: headless chrome=90.0.4430.93)\n"
          ]
        }
      ]
    },
    {
      "cell_type": "code",
      "metadata": {
        "id": "uSkFMi1yyfjB"
      },
      "source": [
        ""
      ],
      "execution_count": null,
      "outputs": []
    },
    {
      "cell_type": "code",
      "metadata": {
        "id": "FhpF2p4FyflQ"
      },
      "source": [
        ""
      ],
      "execution_count": null,
      "outputs": []
    }
  ]
}